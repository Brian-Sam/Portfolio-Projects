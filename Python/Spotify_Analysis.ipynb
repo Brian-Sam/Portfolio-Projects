{
 "cells": [
  {
   "cell_type": "code",
   "execution_count": null,
   "id": "cd27dabc",
   "metadata": {},
   "outputs": [],
   "source": [
   ]
  },
  {
   "cell_type": "code",
   "execution_count": 128,
   "id": "02b01cd5",
   "metadata": {},
   "outputs": [
    {
     "data": {
      "text/plain": [
       "{'album_group': 'album',\n",
       " 'album_type': 'album',\n",
       " 'artists': [{'external_urls': {'spotify': 'https://open.spotify.com/artist/06HL4z0CvFAxyc27GXpf02'},\n",
       "   'href': 'https://api.spotify.com/v1/artists/06HL4z0CvFAxyc27GXpf02',\n",
       "   'id': '06HL4z0CvFAxyc27GXpf02',\n",
       "   'name': 'Taylor Swift',\n",
       "   'type': 'artist',\n",
       "   'uri': 'spotify:artist:06HL4z0CvFAxyc27GXpf02'}],\n",
       " 'external_urls': {'spotify': 'https://open.spotify.com/album/1ymIvQpnPQBj1lGlJRqrFQ'},\n",
       " 'href': 'https://api.spotify.com/v1/albums/1ymIvQpnPQBj1lGlJRqrFQ',\n",
       " 'id': '1ymIvQpnPQBj1lGlJRqrFQ',\n",
       " 'images': [{'height': 640,\n",
       "   'url': 'https://i.scdn.co/image/ab67616d0000b273b5c6df46431b11d01e890005',\n",
       "   'width': 640},\n",
       "  {'height': 300,\n",
       "   'url': 'https://i.scdn.co/image/ab67616d00001e02b5c6df46431b11d01e890005',\n",
       "   'width': 300},\n",
       "  {'height': 64,\n",
       "   'url': 'https://i.scdn.co/image/ab67616d00004851b5c6df46431b11d01e890005',\n",
       "   'width': 64}],\n",
       " 'name': 'Taylor Swift Karaoke',\n",
       " 'release_date': '2006-10-24',\n",
       " 'release_date_precision': 'day',\n",
       " 'total_tracks': 14,\n",
       " 'type': 'album',\n",
       " 'uri': 'spotify:album:1ymIvQpnPQBj1lGlJRqrFQ'}"
      ]
     },
     "execution_count": 128,
     "metadata": {},
     "output_type": "execute_result"
    }
   ],
   "source": [
    "album"
   ]
  },
  {
   "cell_type": "code",
   "execution_count": 2,
   "id": "290e6f4f",
   "metadata": {},
   "outputs": [
    {
     "data": {
      "text/plain": [
       "447"
      ]
     },
     "execution_count": 2,
     "metadata": {},
     "output_type": "execute_result"
    }
   ],
   "source": [
    "import spotipy\n",
    "from spotipy.oauth2 import SpotifyClientCredentials\n",
    "taylor_swift_uri = 'spotify:artist:06HL4z0CvFAxyc27GXpf02'\n",
    "spotify = spotipy.Spotify(client_credentials_manager=SpotifyClientCredentials(client_id='d519e4f607974394866febb9f7f73805',\n",
    "                                              client_secret='2c05182d9a9c40dd8e19289c7c6121c0',))\n",
    "\n",
    "results = spotify.artist_albums(taylor_swift_uri, album_type='album',country='US')\n",
    "albums = results['items']\n",
    "while results['next']:\n",
    "    results = spotify.next(results)\n",
    "    albums.extend(results['items'])\n",
    "\n",
    "album_titles=set()\n",
    "album_id=[]\n",
    "album_name=set()\n",
    "for album in albums:\n",
    "    if 'Karaoke' not in album['name'] and 'Special' not in album['name'] and 'studio' not in album['name'] and 'Live' not in album['name'] and 'Stadium' not in album['name'] and 'Platinum' not in album['name']:\n",
    "        album_titles.add((album['name'],album['id']))\n",
    "        album_id.append(album['id'])\n",
    "        album_name.add(album['name'])\n",
    "\n",
    "comp_list = []\n",
    "\n",
    "for album_name, album_id in album_titles:\n",
    "    tracks = spotify.album_tracks(album_id)['items']\n",
    "    for track in tracks:\n",
    "        track_name = track['name']\n",
    "        track_id = track['id']\n",
    "        comp_list.append((album_name,album_id,track_name,track_id))\n",
    "\n",
    "len(comp_list)"
   ]
  },
  {
   "cell_type": "code",
   "execution_count": 8,
   "id": "b789a1ba",
   "metadata": {},
   "outputs": [],
   "source": [
    "import pandas as pd"
   ]
  },
  {
   "cell_type": "code",
   "execution_count": null,
   "id": "19142faf",
   "metadata": {},
   "outputs": [],
   "source": [
    "features = spotify.audio_features(tracks=['4g2c7NoTWAOSYDy44l9nub'])"
   ]
  },
  {
   "cell_type": "code",
   "execution_count": 11,
   "id": "c4846a23",
   "metadata": {},
   "outputs": [
    {
     "data": {
      "text/plain": [
       "danceability                                                    0.735\n",
       "energy                                                          0.444\n",
       "key                                                                10\n",
       "loudness                                                      -10.519\n",
       "mode                                                                1\n",
       "speechiness                                                    0.0684\n",
       "acousticness                                                    0.204\n",
       "instrumentalness                                               0.0012\n",
       "liveness                                                         0.17\n",
       "valence                                                        0.0984\n",
       "tempo                                                          97.038\n",
       "type                                                   audio_features\n",
       "id                                             4g2c7NoTWAOSYDy44l9nub\n",
       "uri                              spotify:track:4g2c7NoTWAOSYDy44l9nub\n",
       "track_href          https://api.spotify.com/v1/tracks/4g2c7NoTWAOS...\n",
       "analysis_url        https://api.spotify.com/v1/audio-analysis/4g2c...\n",
       "duration_ms                                                    202396\n",
       "time_signature                                                      4\n",
       "dtype: object"
      ]
     },
     "execution_count": 11,
     "metadata": {},
     "output_type": "execute_result"
    }
   ],
   "source": [
    "pd.Series(features[0])"
   ]
  },
  {
   "cell_type": "code",
   "execution_count": 14,
   "id": "5b60cfcc",
   "metadata": {},
   "outputs": [],
   "source": [
    "df = pd.DataFrame()\n",
    "\n",
    "for album_name,album_id,track_name, track_id in comp_list:\n",
    "    features = spotify.audio_features(tracks=[track_id])[0]\n",
    "    features['album_name'] = album_name\n",
    "    features['album_id'] = album_id\n",
    "    features['track_name'] = track_name\n",
    "    ser = pd.Series(features)\n",
    "    df = pd.concat([df,ser],axis=1)"
   ]
  },
  {
   "cell_type": "code",
   "execution_count": 15,
   "id": "a592d02f",
   "metadata": {},
   "outputs": [
    {
     "data": {
      "text/html": [
       "<div>\n",
       "<style scoped>\n",
       "    .dataframe tbody tr th:only-of-type {\n",
       "        vertical-align: middle;\n",
       "    }\n",
       "\n",
       "    .dataframe tbody tr th {\n",
       "        vertical-align: top;\n",
       "    }\n",
       "\n",
       "    .dataframe thead th {\n",
       "        text-align: right;\n",
       "    }\n",
       "</style>\n",
       "<table border=\"1\" class=\"dataframe\">\n",
       "  <thead>\n",
       "    <tr style=\"text-align: right;\">\n",
       "      <th></th>\n",
       "      <th>danceability</th>\n",
       "      <th>energy</th>\n",
       "      <th>key</th>\n",
       "      <th>acousticness</th>\n",
       "      <th>album_name</th>\n",
       "      <th>track_name</th>\n",
       "    </tr>\n",
       "    <tr>\n",
       "      <th>id</th>\n",
       "      <th></th>\n",
       "      <th></th>\n",
       "      <th></th>\n",
       "      <th></th>\n",
       "      <th></th>\n",
       "      <th></th>\n",
       "    </tr>\n",
       "  </thead>\n",
       "  <tbody>\n",
       "    <tr>\n",
       "      <th>4g2c7NoTWAOSYDy44l9nub</th>\n",
       "      <td>0.735</td>\n",
       "      <td>0.444</td>\n",
       "      <td>10</td>\n",
       "      <td>0.204</td>\n",
       "      <td>Midnights (3am Edition)</td>\n",
       "      <td>Lavender Haze</td>\n",
       "    </tr>\n",
       "    <tr>\n",
       "      <th>199E1RRrVmVTQqBXih5qRC</th>\n",
       "      <td>0.658</td>\n",
       "      <td>0.378</td>\n",
       "      <td>7</td>\n",
       "      <td>0.0593</td>\n",
       "      <td>Midnights (3am Edition)</td>\n",
       "      <td>Maroon</td>\n",
       "    </tr>\n",
       "    <tr>\n",
       "      <th>02Zkkf2zMkwRGQjZ7T4p8f</th>\n",
       "      <td>0.638</td>\n",
       "      <td>0.634</td>\n",
       "      <td>4</td>\n",
       "      <td>0.133</td>\n",
       "      <td>Midnights (3am Edition)</td>\n",
       "      <td>Anti-Hero</td>\n",
       "    </tr>\n",
       "    <tr>\n",
       "      <th>6ADDIJxxqzM9LMpm78yzQG</th>\n",
       "      <td>0.659</td>\n",
       "      <td>0.323</td>\n",
       "      <td>9</td>\n",
       "      <td>0.735</td>\n",
       "      <td>Midnights (3am Edition)</td>\n",
       "      <td>Snow On The Beach (feat. Lana Del Rey)</td>\n",
       "    </tr>\n",
       "    <tr>\n",
       "      <th>7gVWKBcfIW93YxNBi3ApIE</th>\n",
       "      <td>0.694</td>\n",
       "      <td>0.38</td>\n",
       "      <td>2</td>\n",
       "      <td>0.416</td>\n",
       "      <td>Midnights (3am Edition)</td>\n",
       "      <td>You're On Your Own, Kid</td>\n",
       "    </tr>\n",
       "  </tbody>\n",
       "</table>\n",
       "</div>"
      ],
      "text/plain": [
       "                       danceability energy key acousticness  \\\n",
       "id                                                            \n",
       "4g2c7NoTWAOSYDy44l9nub        0.735  0.444  10        0.204   \n",
       "199E1RRrVmVTQqBXih5qRC        0.658  0.378   7       0.0593   \n",
       "02Zkkf2zMkwRGQjZ7T4p8f        0.638  0.634   4        0.133   \n",
       "6ADDIJxxqzM9LMpm78yzQG        0.659  0.323   9        0.735   \n",
       "7gVWKBcfIW93YxNBi3ApIE        0.694   0.38   2        0.416   \n",
       "\n",
       "                                     album_name  \\\n",
       "id                                                \n",
       "4g2c7NoTWAOSYDy44l9nub  Midnights (3am Edition)   \n",
       "199E1RRrVmVTQqBXih5qRC  Midnights (3am Edition)   \n",
       "02Zkkf2zMkwRGQjZ7T4p8f  Midnights (3am Edition)   \n",
       "6ADDIJxxqzM9LMpm78yzQG  Midnights (3am Edition)   \n",
       "7gVWKBcfIW93YxNBi3ApIE  Midnights (3am Edition)   \n",
       "\n",
       "                                                    track_name  \n",
       "id                                                              \n",
       "4g2c7NoTWAOSYDy44l9nub                           Lavender Haze  \n",
       "199E1RRrVmVTQqBXih5qRC                                  Maroon  \n",
       "02Zkkf2zMkwRGQjZ7T4p8f                               Anti-Hero  \n",
       "6ADDIJxxqzM9LMpm78yzQG  Snow On The Beach (feat. Lana Del Rey)  \n",
       "7gVWKBcfIW93YxNBi3ApIE                 You're On Your Own, Kid  "
      ]
     },
     "execution_count": 15,
     "metadata": {},
     "output_type": "execute_result"
    }
   ],
   "source": [
    "df = df.transpose().set_index('id')\n",
    "df.head()[['danceability', 'energy', 'key', 'acousticness','album_name','track_name']]"
   ]
  }
 ],
 "metadata": {
  "kernelspec": {
   "display_name": "Python 3 (ipykernel)",
   "language": "python",
   "name": "python3"
  },
  "language_info": {
   "codemirror_mode": {
    "name": "ipython",
    "version": 3
   },
   "file_extension": ".py",
   "mimetype": "text/x-python",
   "name": "python",
   "nbconvert_exporter": "python",
   "pygments_lexer": "ipython3",
   "version": "3.9.12"
  }
 },
 "nbformat": 4,
 "nbformat_minor": 5
}
