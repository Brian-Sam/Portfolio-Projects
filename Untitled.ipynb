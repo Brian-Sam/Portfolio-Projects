{
 "cells": [
  {
   "cell_type": "code",
   "execution_count": 28,
   "id": "71a1f2c6",
   "metadata": {},
   "outputs": [
    {
     "data": {
      "text/plain": [
       "'\\nUnder 18.5\\tUnderweight\\tMinimal\\n18.5 - 24.9\\tNormal Weight\\tMinimal\\n25 - 29.9\\tOverweight\\tIncreased\\n30 - 34.9\\tObese\\tHigh\\n35 - 39.9\\tSeverely Obese\\tVery High\\n40 and over\\tMorbidly Obese\\tExtremely High\\n'"
      ]
     },
     "execution_count": 28,
     "metadata": {},
     "output_type": "execute_result"
    }
   ],
   "source": [
    "\"\"\"\n",
    "Under 18.5\tUnderweight\tMinimal\n",
    "18.5 - 24.9\tNormal Weight\tMinimal\n",
    "25 - 29.9\tOverweight\tIncreased\n",
    "30 - 34.9\tObese\tHigh\n",
    "35 - 39.9\tSeverely Obese\tVery High\n",
    "40 and over\tMorbidly Obese\tExtremely High\n",
    "\"\"\""
   ]
  },
  {
   "cell_type": "code",
   "execution_count": 19,
   "id": "0ab641fd",
   "metadata": {},
   "outputs": [
    {
     "name": "stdout",
     "output_type": "stream",
     "text": [
      "Enter you name: a;sldfkj\n",
      "Enter your weight in pounds: 300\n",
      "Enter your height in inches: 77\n",
      "35.5709225839096\n",
      "a;sldfkj, you are severely obese.\n"
     ]
    }
   ],
   "source": [
    "name = input('Name:')\n",
    "weight = int(input('Weight:'))\n",
    "height = int(input('Height:')) \n",
    "BMI = (weight * 703) / (height * height)\n",
    "\n",
    "print(BMI)\n",
    "\n",
    "if BMI<18.5:\n",
    "    print (name +' you are under weight')\n",
    "elif BMI>=18.5 and BMI<=24.9:\n",
    "    print (name +' you are normal weight')\n",
    "elif BMI>=25 and BMI<=29.9:\n",
    "    print (name+' you are over weight')\n",
    "elif BMI>=30 and BMI<=34.9:\n",
    "    print(name+' you are obese')\n",
    "elif BMI>=35 and BMI<=39.9:\n",
    "    print(name+' you are severely obese')\n",
    "elif BMI>40:\n",
    "    print(name+' you are morbidly obese')"
   ]
  },
  {
   "cell_type": "code",
   "execution_count": null,
   "id": "cfa12f7c",
   "metadata": {},
   "outputs": [],
   "source": []
  },
  {
   "cell_type": "code",
   "execution_count": null,
   "id": "9a0d6750",
   "metadata": {},
   "outputs": [],
   "source": []
  }
 ],
 "metadata": {
  "kernelspec": {
   "display_name": "Python 3 (ipykernel)",
   "language": "python",
   "name": "python3"
  },
  "language_info": {
   "codemirror_mode": {
    "name": "ipython",
    "version": 3
   },
   "file_extension": ".py",
   "mimetype": "text/x-python",
   "name": "python",
   "nbconvert_exporter": "python",
   "pygments_lexer": "ipython3",
   "version": "3.9.12"
  }
 },
 "nbformat": 4,
 "nbformat_minor": 5
}
